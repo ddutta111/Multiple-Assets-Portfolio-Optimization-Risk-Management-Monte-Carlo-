{
  "nbformat": 4,
  "nbformat_minor": 0,
  "metadata": {
    "colab": {
      "provenance": [],
      "toc_visible": true,
      "authorship_tag": "ABX9TyNi+baEAxteizqVSIK9Bwfn",
      "include_colab_link": true
    },
    "kernelspec": {
      "name": "python3",
      "display_name": "Python 3"
    },
    "language_info": {
      "name": "python"
    }
  },
  "cells": [
    {
      "cell_type": "markdown",
      "metadata": {
        "id": "view-in-github",
        "colab_type": "text"
      },
      "source": [
        "<a href=\"https://colab.research.google.com/github/ddutta111/Multiple-Assets-Portfolio-Optimization-Risk-Management-Monte-Carlo-/blob/main/Portfolio_Optimization_of_Multiple_Assets_%26_Risk_Management(Monte_Carlo_Method).ipynb\" target=\"_parent\"><img src=\"https://colab.research.google.com/assets/colab-badge.svg\" alt=\"Open In Colab\"/></a>"
      ]
    },
    {
      "cell_type": "markdown",
      "source": [
        "# **Portfolio Optimization & Risk Management (Monte Carlo Method)**"
      ],
      "metadata": {
        "id": "99WQOPNAQVn_"
      }
    },
    {
      "cell_type": "markdown",
      "source": [
        "# **Part 1: Portfolio Optimization**"
      ],
      "metadata": {
        "id": "0KkjiNn1xsPi"
      }
    },
    {
      "cell_type": "markdown",
      "source": [
        "# Business Problem Context:\n",
        "Clients with diversified portfolios often hold a mix of risky assets, including stocks, commodities, ETFs, and high-yield bonds. While these investments have the potential for substantial returns, they also carry significant risk. The challenge for financial advisors and portfolio managers is to construct a portfolio that maximizes returns while minimizing risk, tailored to the client’s specific financial goals and risk tolerance.\n",
        "\n",
        "Objective:\n",
        "The goal is to identify the optimal portfolio composition that offers the highest possible return along with the lowest level of risk. This involves selecting and weighting assets in a way that balances the trade-off between risk and return, ultimately providing the client with a portfolio that aligns with their investment objectives and to measure the risk of the portfolio we calculate the VaR by using Monte Carlo Simulation Method (Using 20000 simulation).\n",
        "\n",
        "Solution Approach:\n",
        "To achieve this, the Sharpe ratio, a widely recognized portfolio performance metric, will be employed. The Sharpe ratio measures the excess return per unit of risk, allowing us to evaluate the efficiency of the portfolio. By maximizing the Sharpe ratio, we can find the portfolio that provides the highest return relative to its risk, ensuring that the client’s investment strategy is both effective and efficient.\n",
        "\n",
        "Outcome:\n",
        "The optimized portfolio will provide the client with a strategic asset allocation that not only meets their return expectations but also minimizes exposure to unnecessary risk. This balanced approach will help in achieving long-term financial goals, while also providing peace of mind through managed risk measurement & exposure."
      ],
      "metadata": {
        "id": "SMlqo4abMdBA"
      }
    },
    {
      "cell_type": "markdown",
      "source": [
        "# Section I: Importing the required libraries for optimal portfolio analysis"
      ],
      "metadata": {
        "id": "3zUpdUsiT5j2"
      }
    },
    {
      "cell_type": "code",
      "execution_count": null,
      "metadata": {
        "id": "juX29cMcP6kA"
      },
      "outputs": [],
      "source": [
        "import yfinance as yf\n",
        "import pandas as pd\n",
        "from datetime import datetime, timedelta\n",
        "import numpy as np\n",
        "from scipy.stats import norm\n",
        "from scipy.optimize import minimize\n",
        "import matplotlib.pyplot as plt"
      ]
    },
    {
      "cell_type": "markdown",
      "source": [
        "# Defining Tickers & Time Range"
      ],
      "metadata": {
        "id": "n7FSxcSrUDFC"
      }
    },
    {
      "cell_type": "markdown",
      "source": [
        "Defining the tickers of Multiple Asset Classes\n",
        "\n",
        "UK FTSE 100 Stock Index -> UKX\n",
        "\n",
        "S&P 500 U.S Stock Market Index -> SPY\n",
        "\n",
        "SPDR Gold Shares ETF (Largest Commodity Based ETFs Index) -> GLD\n",
        "\n",
        "Nasdaq ETF Index -> QQQ\n",
        "\n",
        "Vanguard Total Bond Market ETF (Most popular Bond Index) -> BND\n",
        "\n",
        "Morgan Stanley Capital International Indices -> MSC\n",
        "\n",
        "Vanguard Total Stock Market ETF -> VTI\n",
        "\n"
      ],
      "metadata": {
        "id": "vttxNAv5YY8z"
      }
    },
    {
      "cell_type": "code",
      "source": [
        "tickers = ['UKX', 'SPY', 'GLD', 'QQQ', 'BND', 'MSCI', 'VTI']"
      ],
      "metadata": {
        "id": "V9nQ5gu3V4ZT"
      },
      "execution_count": null,
      "outputs": []
    },
    {
      "cell_type": "markdown",
      "source": [
        "Setting up the end date to Today"
      ],
      "metadata": {
        "id": "ApDN0BNWYfkF"
      }
    },
    {
      "cell_type": "code",
      "source": [
        "end_date = datetime.today()"
      ],
      "metadata": {
        "id": "oBJc7p58XxwF"
      },
      "execution_count": null,
      "outputs": []
    },
    {
      "cell_type": "markdown",
      "source": [
        "Setting up the starting date 10 years ago"
      ],
      "metadata": {
        "id": "PxetzLCIYkk_"
      }
    },
    {
      "cell_type": "code",
      "source": [
        "start_date = end_date - timedelta(days = 10*365)"
      ],
      "metadata": {
        "id": "_jhX_rYTX8xI"
      },
      "execution_count": null,
      "outputs": []
    },
    {
      "cell_type": "markdown",
      "source": [
        "# Section II: Downloading the Adjusted Closing Prices of the Multiple Asset-Class Indexes"
      ],
      "metadata": {
        "id": "05fOZAqjZvUT"
      }
    },
    {
      "cell_type": "markdown",
      "source": [
        "Creating an Empty DataFrame to Store the Adjusted Closing Prices"
      ],
      "metadata": {
        "id": "qUyH3oXybFxJ"
      }
    },
    {
      "cell_type": "code",
      "source": [
        "adj_close_df = pd.DataFrame()"
      ],
      "metadata": {
        "id": "ct-HsaLLZ52N"
      },
      "execution_count": null,
      "outputs": []
    },
    {
      "cell_type": "markdown",
      "source": [
        "Download The Closing Prices for Each Tickers above"
      ],
      "metadata": {
        "id": "n4SB9vvJakGy"
      }
    },
    {
      "cell_type": "code",
      "source": [
        "for ticker in tickers:\n",
        "    data = yf.download(ticker, start = start_date,end = end_date)\n",
        "    adj_close_df[ticker] = data['Adj Close']"
      ],
      "metadata": {
        "colab": {
          "base_uri": "https://localhost:8080/"
        },
        "id": "PzxsZcYlaXYs",
        "outputId": "6d2f795f-17bf-4a96-c706-4872f02bdae6"
      },
      "execution_count": null,
      "outputs": [
        {
          "output_type": "stream",
          "name": "stderr",
          "text": [
            "[*********************100%%**********************]  1 of 1 completed\n",
            "[*********************100%%**********************]  1 of 1 completed\n",
            "[*********************100%%**********************]  1 of 1 completed\n",
            "[*********************100%%**********************]  1 of 1 completed\n",
            "[*********************100%%**********************]  1 of 1 completed\n",
            "[*********************100%%**********************]  1 of 1 completed\n",
            "[*********************100%%**********************]  1 of 1 completed\n"
          ]
        }
      ]
    },
    {
      "cell_type": "markdown",
      "source": [
        "Displaying the Data"
      ],
      "metadata": {
        "id": "AAgG0V0jbRjr"
      }
    },
    {
      "cell_type": "code",
      "source": [
        "print(adj_close_df)"
      ],
      "metadata": {
        "colab": {
          "base_uri": "https://localhost:8080/"
        },
        "id": "kAjfsF1abXZ-",
        "outputId": "af5bf599-5dec-41cd-834f-512087e6e8be"
      },
      "execution_count": null,
      "outputs": [
        {
          "output_type": "stream",
          "name": "stdout",
          "text": [
            "                   UKX         SPY         GLD         QQQ        BND  \\\n",
            "Date                                                                    \n",
            "2014-08-18  674.130005  165.193039  124.959999   90.552963  62.677395   \n",
            "2014-08-19  677.929993  166.055176  124.680000   91.060379  62.669800   \n",
            "2014-08-20  675.549988  166.498749  124.220001   91.060379  62.578453   \n",
            "2014-08-21  677.770020  166.984222  122.879997   91.244904  62.646961   \n",
            "2014-08-22  677.530029  166.724747  123.190002   91.383301  62.646961   \n",
            "...                ...         ...         ...         ...        ...   \n",
            "2016-06-29  636.010010  180.203049  125.839996  100.242126  67.289993   \n",
            "2016-06-30  650.429993  182.662064  126.470001  101.401894  67.377922   \n",
            "2016-07-01  657.780029  183.045746  128.410004  101.911095  67.565285   \n",
            "2016-07-05  654.539978  181.729080  129.470001  101.288742  67.797516   \n",
            "2016-07-06  646.359985  182.819031  130.229996  102.118561  67.917633   \n",
            "\n",
            "                 MSCI        VTI  \n",
            "Date                              \n",
            "2014-08-18  41.023132  85.717064  \n",
            "2014-08-19  40.978222  86.144882  \n",
            "2014-08-20  41.184792  86.346245  \n",
            "2014-08-21  41.472168  86.539200  \n",
            "2014-08-22  41.499100  86.413322  \n",
            "...               ...        ...  \n",
            "2016-06-29  68.834801  92.168526  \n",
            "2016-06-30  70.865570  93.432770  \n",
            "2016-07-01  70.690979  93.615875  \n",
            "2016-07-05  70.553131  92.918335  \n",
            "2016-07-06  71.325043  93.485085  \n",
            "\n",
            "[467 rows x 7 columns]\n"
          ]
        }
      ]
    },
    {
      "cell_type": "markdown",
      "source": [
        "# Section III: Calculating the Log Normal Retuns of Assets"
      ],
      "metadata": {
        "id": "FsK7ZHCQb5we"
      }
    },
    {
      "cell_type": "markdown",
      "source": [
        "Calculate the Lognormal Returns for each Tickers"
      ],
      "metadata": {
        "id": "nPke3mMJcF1u"
      }
    },
    {
      "cell_type": "code",
      "source": [
        "log_returns = np.log(adj_close_df / adj_close_df.shift(1))"
      ],
      "metadata": {
        "id": "kDPP7DAycNOg"
      },
      "execution_count": null,
      "outputs": []
    },
    {
      "cell_type": "markdown",
      "source": [
        "Taking Care of Missing Values"
      ],
      "metadata": {
        "id": "OusF3U06cyp7"
      }
    },
    {
      "cell_type": "code",
      "source": [
        "log_returns = log_returns.dropna()"
      ],
      "metadata": {
        "id": "EbtmLo_5dBb-"
      },
      "execution_count": null,
      "outputs": []
    },
    {
      "cell_type": "markdown",
      "source": [
        "# Section IV: Co-Variance Matrix"
      ],
      "metadata": {
        "id": "zlq1-lFbdVlu"
      }
    },
    {
      "cell_type": "markdown",
      "source": [
        "Calculate the Covariance Matrix using annualized log returns"
      ],
      "metadata": {
        "id": "Z-Ylrkhldd7f"
      }
    },
    {
      "cell_type": "code",
      "source": [
        "cov_matrix = log_returns.cov()*252\n",
        "print(cov_matrix)"
      ],
      "metadata": {
        "colab": {
          "base_uri": "https://localhost:8080/"
        },
        "id": "79DDYC0rdmy5",
        "outputId": "f9c8488f-1082-4c0f-ad02-693dabad2f38"
      },
      "execution_count": null,
      "outputs": [
        {
          "output_type": "stream",
          "name": "stdout",
          "text": [
            "           UKX       SPY       GLD       QQQ       BND      MSCI       VTI\n",
            "UKX   0.032499  0.017071 -0.005740  0.018051 -0.001113  0.018927  0.017128\n",
            "SPY   0.017071  0.023177 -0.004927  0.025717 -0.001491  0.023269  0.023190\n",
            "GLD  -0.005740 -0.004927  0.026200 -0.006456  0.001940 -0.007121 -0.004817\n",
            "QQQ   0.018051  0.025717 -0.006456  0.032457 -0.001632  0.025801  0.025751\n",
            "BND  -0.001113 -0.001491  0.001940 -0.001632  0.001145 -0.001859 -0.001507\n",
            "MSCI  0.018927  0.023269 -0.007121  0.025801 -0.001859  0.047709  0.023487\n",
            "VTI   0.017128  0.023190 -0.004817  0.025751 -0.001507  0.023487  0.023361\n"
          ]
        }
      ]
    },
    {
      "cell_type": "markdown",
      "source": [
        "The covariance matrix shows here the relationships between the returns of different assets in a multi-asset portfolio. Here's a brief interpretation:\n",
        "\n",
        "Diagonal Elements (e.g., UKX with UKX, SPY with SPY): These represent the variances of each asset's returns. Higher values on the diagonal indicate greater volatility (e.g., QQQ has the highest variance at 0.032457, meaning it is the most volatile).\n",
        "\n",
        "Off-Diagonal Elements (e.g., UKX with SPY, SPY with GLD): These represent the covariances between the returns of two different assets. Positive values indicate that the assets tend to move in the same direction (e.g., UKX and SPY have a covariance of 0.017071, suggesting a positive correlation). Negative values indicate that the assets tend to move in opposite directions (e.g., SPY and GLD have a covariance of -0.004927, suggesting a slight negative correlation).\n",
        "\n",
        "Low or Negative Covariances (e.g., GLD with UKX, BND with QQQ): These suggest that these assets can help reduce overall portfolio risk through diversification, as their returns do not move in tandem.\n",
        "\n",
        "Overall, the covariance matrix helps in understanding the risk and return dynamics within the portfolio, guiding the construction of an optimized portfolio by balancing assets that offer diversification benefits."
      ],
      "metadata": {
        "id": "hLihqDtAZudS"
      }
    },
    {
      "cell_type": "markdown",
      "source": [
        "# Section V: Defining The Portfolio Performance Matrix"
      ],
      "metadata": {
        "id": "1QSGV7_lerFY"
      }
    },
    {
      "cell_type": "markdown",
      "source": [
        "**Calculate the Portfolio Standard Deviation**\n",
        "\n",
        "Below we calculate the portfolio variance, which is measure of risk associated with portfolio of multiple assets. It represents the combined volatality of the assets in the portfolio, taking into account their individual volatality and correlations."
      ],
      "metadata": {
        "id": "-xsU5JTHe1Lj"
      }
    },
    {
      "cell_type": "code",
      "source": [
        "def standard_deviation(weights, cov_matrix):\n",
        "    variance = weights.T @ cov_matrix @ weights\n",
        "    return np.sqrt(variance)"
      ],
      "metadata": {
        "id": "RDa7krlqezIo"
      },
      "execution_count": null,
      "outputs": []
    },
    {
      "cell_type": "markdown",
      "source": [
        "**Calculate the Expected Return of Portfolio**\n",
        "\n",
        "Assumption: Expected Returns are Based on Historical Returns for simplification purpose"
      ],
      "metadata": {
        "id": "kYyq2pqcfDZq"
      }
    },
    {
      "cell_type": "code",
      "source": [
        "def expected_return(weights, log_returns):\n",
        "    return np.sum(log_returns.mean()*weights)*252"
      ],
      "metadata": {
        "id": "v_ItHz2ch9It"
      },
      "execution_count": null,
      "outputs": []
    },
    {
      "cell_type": "markdown",
      "source": [
        "**Calculate the Sharp Ratio Matrix**\n",
        "\n",
        "The Sharpe ratio is a measure of risk-adjusted return, calculated as:\n",
        "\n",
        "**Sharpe Ratio = (Portfolio Return - Risk Free Rate (Rf)) / Standard Deviation of Portfolio Returns**\n",
        "\n",
        "It represents how much excess return you are receiving for the extra volatility you endure for holding a riskier asset.\n"
      ],
      "metadata": {
        "id": "MsftGlm9irwM"
      }
    },
    {
      "cell_type": "code",
      "source": [
        "def sharpe_ratio(weights, log_returns, cov_matrix, risk_free_rate):\n",
        "    return (expected_return(weights, log_returns) - risk_free_rate) / standard_deviation(weights, cov_matrix)"
      ],
      "metadata": {
        "id": "EqERTPapivkn"
      },
      "execution_count": null,
      "outputs": []
    },
    {
      "cell_type": "code",
      "source": [
        "!pip install fredapi\n",
        "from fredapi import Fred"
      ],
      "metadata": {
        "colab": {
          "base_uri": "https://localhost:8080/"
        },
        "id": "qC5E15KfkCQG",
        "outputId": "b13301aa-a282-40be-d5ee-4d872d384928"
      },
      "execution_count": null,
      "outputs": [
        {
          "output_type": "stream",
          "name": "stdout",
          "text": [
            "Requirement already satisfied: fredapi in /usr/local/lib/python3.10/dist-packages (0.5.2)\n",
            "Requirement already satisfied: pandas in /usr/local/lib/python3.10/dist-packages (from fredapi) (2.1.4)\n",
            "Requirement already satisfied: numpy<2,>=1.22.4 in /usr/local/lib/python3.10/dist-packages (from pandas->fredapi) (1.26.4)\n",
            "Requirement already satisfied: python-dateutil>=2.8.2 in /usr/local/lib/python3.10/dist-packages (from pandas->fredapi) (2.8.2)\n",
            "Requirement already satisfied: pytz>=2020.1 in /usr/local/lib/python3.10/dist-packages (from pandas->fredapi) (2024.1)\n",
            "Requirement already satisfied: tzdata>=2022.1 in /usr/local/lib/python3.10/dist-packages (from pandas->fredapi) (2024.1)\n",
            "Requirement already satisfied: six>=1.5 in /usr/local/lib/python3.10/dist-packages (from python-dateutil>=2.8.2->pandas->fredapi) (1.16.0)\n"
          ]
        }
      ]
    },
    {
      "cell_type": "markdown",
      "source": [
        "# Section VI: Portfolio Optimization"
      ],
      "metadata": {
        "id": "4xrB4seR0qew"
      }
    },
    {
      "cell_type": "markdown",
      "source": [
        "Calculating the Risk Free Rate (rf)"
      ],
      "metadata": {
        "id": "Czvobo8Wux8J"
      }
    },
    {
      "cell_type": "code",
      "source": [
        "fred = Fred(api_key='778e0a0b2a1dc1f46d0979a2f79ef915')\n",
        "ten_year_treasury_rate = fred.get_series_latest_release('GS10') / 100\n",
        "\n",
        "# Setting up as Risk_Free Rate\n",
        "rf = ten_year_treasury_rate.iloc[-1]\n",
        "print(rf)"
      ],
      "metadata": {
        "colab": {
          "base_uri": "https://localhost:8080/"
        },
        "id": "1vcP2QL9l8NX",
        "outputId": "784b7103-b3c1-4d2e-8353-fd036d6f84aa"
      },
      "execution_count": null,
      "outputs": [
        {
          "output_type": "stream",
          "name": "stdout",
          "text": [
            "0.0425\n"
          ]
        }
      ]
    },
    {
      "cell_type": "markdown",
      "source": [
        "Define the function to minimize the Negative Sharp Ratio\n",
        "\n",
        "In the case of scipy.optimize.minimize() function, there is no direct method to find the maximum value of a function."
      ],
      "metadata": {
        "id": "tWzUjhjGu4_-"
      }
    },
    {
      "cell_type": "code",
      "source": [
        "def neg_sharpe_ratio(weights, log_returns, cov_matrix, risk_free_rate):\n",
        "    return -sharpe_ratio(weights, log_returns, cov_matrix, risk_free_rate)"
      ],
      "metadata": {
        "id": "9OdgyZLKvEPm"
      },
      "execution_count": null,
      "outputs": []
    },
    {
      "cell_type": "markdown",
      "source": [
        "Constraints are conditions that must be met by teh solutions during the optimization process. Here, the constaint is that sum of all portfolio weights must be equal to 1. The \"Constraints\" variable is a dictionary with two keys: 'type' and 'fun where type is set as 'eqc'that is 'equality constraints' and fun is assigned the function check_sum; whic checks if the sum of the portfolio weights = 1.\n",
        "\n",
        "Bounds are the limits placed on variables during the optimization process. Here, the variables are the portfolio weights and each weights should be between 0 and 1."
      ],
      "metadata": {
        "id": "pIUzunTTwLKA"
      }
    },
    {
      "cell_type": "markdown",
      "source": [
        "Set the Constraints Bound"
      ],
      "metadata": {
        "id": "fc70BQe0Inm3"
      }
    },
    {
      "cell_type": "code",
      "source": [
        "constraints = {'type': 'eq', 'fun': lambda weights: np.sum(weights) - 1}\n",
        "bounds = [(0, 0.5) for _ in range(len(tickers))]"
      ],
      "metadata": {
        "id": "DNqBCzc_x11l"
      },
      "execution_count": null,
      "outputs": []
    },
    {
      "cell_type": "markdown",
      "source": [
        "Set the Initial Weights"
      ],
      "metadata": {
        "id": "UEHnUIqHyWHt"
      }
    },
    {
      "cell_type": "code",
      "source": [
        "initial_weights = np.array([1/len(tickers)]*len(tickers))\n",
        "print(initial_weights)"
      ],
      "metadata": {
        "colab": {
          "base_uri": "https://localhost:8080/"
        },
        "id": "RJAo8-lzymxd",
        "outputId": "da9a5515-fecc-4d46-c4fd-d1f965c7b7cc"
      },
      "execution_count": null,
      "outputs": [
        {
          "output_type": "stream",
          "name": "stdout",
          "text": [
            "[0.14285714 0.14285714 0.14285714 0.14285714 0.14285714 0.14285714\n",
            " 0.14285714]\n"
          ]
        }
      ]
    },
    {
      "cell_type": "markdown",
      "source": [
        "Optimize the Weights to Maximixe the Sharp Ratio\n",
        "\n",
        "\"SLSQP\" stands for Sequential Least Squares Quardritic Programming which is numarical optimization technique suitable for solving non-linear optimization problems with constraints."
      ],
      "metadata": {
        "id": "D2AfMrhqzcf2"
      }
    },
    {
      "cell_type": "code",
      "source": [
        "optimized_results = minimize(neg_sharpe_ratio, initial_weights, args=(log_returns, cov_matrix, rf), method='SLSQP', constraints=constraints, bounds=bounds)"
      ],
      "metadata": {
        "id": "Oq3AMASV7wSe"
      },
      "execution_count": null,
      "outputs": []
    },
    {
      "cell_type": "markdown",
      "source": [
        "Get the Optimal Weights"
      ],
      "metadata": {
        "id": "qk22xgXb8JFv"
      }
    },
    {
      "cell_type": "code",
      "source": [
        "optimal_weights = optimized_results.x"
      ],
      "metadata": {
        "id": "hVf0FrGZ8M5U"
      },
      "execution_count": null,
      "outputs": []
    },
    {
      "cell_type": "markdown",
      "source": [
        "# Section VII: Analysis of the Optimal Portfolio"
      ],
      "metadata": {
        "id": "gg0HpMnM8bvY"
      }
    },
    {
      "cell_type": "markdown",
      "source": [
        "Visualize the Optimal Portfolio Analytics"
      ],
      "metadata": {
        "id": "No0o_Er98kjn"
      }
    },
    {
      "cell_type": "code",
      "source": [
        "print(\"Optimal Weights:\")\n",
        "for ticker, weight in zip(tickers, optimal_weights):\n",
        "    print(f\"{ticker}: {weight:.4f}\")\n",
        "\n",
        "optimal_portfolio_return = expected_return(optimal_weights, log_returns)\n",
        "optimal_portfolio_volatility = standard_deviation(optimal_weights, cov_matrix)\n",
        "optimal_sharpe_ratio = sharpe_ratio(optimal_weights, log_returns, cov_matrix, rf)\n",
        "\n",
        "print(f\"Expected Annual Return: {optimal_portfolio_return:.4f}\")\n",
        "print(f\"Expected Volatility: {optimal_portfolio_volatility:.4f}\")\n",
        "print(f\"Sharpe Ratio: {optimal_sharpe_ratio:.4f}\")"
      ],
      "metadata": {
        "colab": {
          "base_uri": "https://localhost:8080/"
        },
        "id": "GZPdgoUl8-Rn",
        "outputId": "37761dac-dcd1-4699-c27a-804959462f84"
      },
      "execution_count": null,
      "outputs": [
        {
          "output_type": "stream",
          "name": "stdout",
          "text": [
            "Optimal Weights:\n",
            "UKX: 0.0000\n",
            "SPY: 0.0000\n",
            "GLD: 0.0377\n",
            "QQQ: 0.0000\n",
            "BND: 0.5000\n",
            "MSCI: 0.4623\n",
            "VTI: 0.0000\n",
            "Expected Annual Return: 0.1608\n",
            "Expected Volatility: 0.0974\n",
            "Sharpe Ratio: 1.2150\n"
          ]
        }
      ]
    },
    {
      "cell_type": "markdown",
      "source": [
        "# Explanation:\n",
        "\n",
        "The optimal portfolio result based on the given weights indicates a strategy focused on maximizing returns while minimizing risk:\n",
        "\n",
        "Multiple Asset Allocations:\n",
        "\n",
        "GLD: 3.77%\n",
        "BND: 50.00%\n",
        "MSCI: 46.23%\n",
        "UKX, SPY, QQQ, VTI: 0.00%\n",
        "\n",
        "*Portfolio Composition:*\n",
        "\n",
        "The portfolio heavily invests in BND (Vanguard Total Bond Market ETF) and MSCI (MSCI Index-related assets), making up almost the entire portfolio. This suggests a preference for bonds and diversified global equities, which are expected to provide stability and diversification.\n",
        "\n",
        "A small allocation to GLD (Gold) suggests a strategy to hedge against inflation or market volatility, as gold often performs well during economic uncertainty.\n",
        "\n",
        "No allocation to UKX, SPY, QQQ, or VTI implies that these assets do not contribute significantly to the risk-adjusted return, or they may increase the portfolio's volatility without providing sufficient return or other assets have significantly overperformed in teh portfolio.\n",
        "\n",
        "*Performance Metrics:*\n",
        "\n",
        "**Expected Annual Return:** 16.08%—indicating a strong potential return for the portfolio.\n",
        "\n",
        "**Expected Volatility:** 9.74%—showing that the portfolio has moderate risk.\n",
        "\n",
        "**Sharpe Ratio:** 1.215 suggests: For every unit of risk (measured by standard deviation) the portfolio has taken, it has generated 1.21 units of excess return over the risk-free rate. This ratio indicates a good risk-adjusted return. Typically, a Sharpe ratio above 1.0 is considered favorable. The higher the Sharpe ratio, the better the portfolio’s risk-adjusted performance."
      ],
      "metadata": {
        "id": "loi6wGE5bJym"
      }
    },
    {
      "cell_type": "markdown",
      "source": [
        "# Final Visual Presentation of the Portfolio in Plot"
      ],
      "metadata": {
        "id": "4G7eay6f95ry"
      }
    },
    {
      "cell_type": "code",
      "source": [
        "plt.figure(figsize=(10, 6))\n",
        "plt.bar(tickers, optimal_weights)\n",
        "\n",
        "plt.xlabel('Assets')\n",
        "plt.ylabel('Optimal Weights')\n",
        "plt.title('Optimal Portfolio Weights')\n",
        "\n",
        "plt.show()"
      ],
      "metadata": {
        "colab": {
          "base_uri": "https://localhost:8080/",
          "height": 564
        },
        "id": "AHJDoIml-BtR",
        "outputId": "8f0cad22-711e-4109-bce3-c632c707ebf6"
      },
      "execution_count": null,
      "outputs": [
        {
          "output_type": "display_data",
          "data": {
            "text/plain": [
              "<Figure size 1000x600 with 1 Axes>"
            ],
            "image/png": "[encoded data removed]"
          },
          "metadata": {}
        }
      ]
    },
    {
      "cell_type": "markdown",
      "source": [
        "# Conclusion on Optimal Portfolio"
      ],
      "metadata": {
        "id": "vu7fWwd8cnAH"
      }
    },
    {
      "cell_type": "markdown",
      "source": [
        "The optimal portfolio graph over the last 10 years reveals a well-balanced and conservative strategy designed to maximize returns while minimizing risk. By heavily weighting bonds and diversified global equities, with a modest allocation to gold for additional stability, this portfolio aims to achieve strong returns with effective risk management. The impressive Sharpe ratio underscores its strong risk-adjusted performance, making it an attractive choice for investors seeking both stability and growth."
      ],
      "metadata": {
        "id": "1nzryPIkcrYi"
      }
    },
    {
      "cell_type": "markdown",
      "source": [
        "## **Part 2: Value at Risk Measurement (VaR) by Monte Carlo Simulation Method**"
      ],
      "metadata": {
        "id": "QbTY6GZRhWqf"
      }
    },
    {
      "cell_type": "markdown",
      "source": [
        "# Section VIII: Creating an Equally Weighted Portfolio & Finding a Total Portfolio Expected Return and Standard Deviation"
      ],
      "metadata": {
        "id": "EDnuoB6sh82r"
      }
    },
    {
      "cell_type": "code",
      "source": [
        "#Assuming portfolio estimates total = $2million and we take equal weights for 7 assets = 14.29%\n",
        "portfolio_value = 2000000\n",
        "weights = np.array([1/len(tickers)]*len(tickers))\n",
        "portfolio_expected_return = expected_return(weights, log_returns)\n",
        "portfolio_std_dev = standard_deviation (weights, cov_matrix)"
      ],
      "metadata": {
        "id": "rEc858ZMiIvN"
      },
      "execution_count": null,
      "outputs": []
    },
    {
      "cell_type": "markdown",
      "source": [
        "# Section IX: Defining Functions for Monte Carlo Simulaton"
      ],
      "metadata": {
        "id": "t-ks-66Hmy4U"
      }
    },
    {
      "cell_type": "markdown",
      "source": [
        "Creating a Function that gives a random Z-Score based on Normal Distribution"
      ],
      "metadata": {
        "id": "HpTUY64Hjum4"
      }
    },
    {
      "cell_type": "code",
      "source": [
        "def random_z_score():\n",
        "    return np.random.normal(0, 1)"
      ],
      "metadata": {
        "id": "LVThr6CRkC95"
      },
      "execution_count": null,
      "outputs": []
    },
    {
      "cell_type": "markdown",
      "source": [
        "Creating a Function to Calculate Scenario of Gain & Loss"
      ],
      "metadata": {
        "id": "faQ5grGdkExT"
      }
    },
    {
      "cell_type": "code",
      "source": [
        "days = 5\n",
        "\n",
        "def scenario_gain_loss(portfolio_value, portfolio_std_dev, z_score, days):\n",
        "    return portfolio_value * portfolio_expected_return * days + portfolio_value * portfolio_std_dev * z_score * np.sqrt(days)"
      ],
      "metadata": {
        "id": "0i5jnJ4QkQcx"
      },
      "execution_count": null,
      "outputs": []
    },
    {
      "cell_type": "markdown",
      "source": [
        "Running 20000 Monte carlo Simulations"
      ],
      "metadata": {
        "id": "HRvRv-iFlNPq"
      }
    },
    {
      "cell_type": "code",
      "source": [
        "simulations = 20000\n",
        "scenarioReturn = []\n",
        "\n",
        "for i in range(simulations):\n",
        "    z_score = random_z_score()\n",
        "    scenarioReturn.append(scenario_gain_loss(portfolio_value, portfolio_std_dev, z_score, days))"
      ],
      "metadata": {
        "id": "VUbwCQ-VlNxu"
      },
      "execution_count": null,
      "outputs": []
    },
    {
      "cell_type": "markdown",
      "source": [
        "# Section X: Calculating Value at Risk (VaR) by Specifying a Confidence Interval"
      ],
      "metadata": {
        "id": "3lmo7vUblcZF"
      }
    },
    {
      "cell_type": "code",
      "source": [
        "confidence_interval = 0.95\n",
        "VaR = -np.percentile(scenarioReturn, 100 * (1 - confidence_interval))\n",
        "print(VaR)"
      ],
      "metadata": {
        "colab": {
          "base_uri": "https://localhost:8080/"
        },
        "id": "r0G0C5GDl1rm",
        "outputId": "7633d135-3992-41b3-a5f8-fdd27bafd7db"
      },
      "execution_count": null,
      "outputs": [
        {
          "output_type": "stream",
          "name": "stdout",
          "text": [
            "69744.52442953481\n"
          ]
        }
      ]
    },
    {
      "cell_type": "markdown",
      "source": [
        "**Summary of Result**\n",
        "\n",
        "The Value at Risk (VaR) of $69744.52 for a portfolio of 7 assets, with a 95% confidence level over a 5-day period, indicates the potential loss that the portfolio could experience with 95% confidence. Here’s a brief explanation of the result:\n",
        "\n",
        "*Interpretation of VaR:*\n",
        "\n",
        "VaR Value:\n",
        "\n",
        "The VaR of $69744.52 means -\n",
        "that there is a 95% chance that the portfolio will not lose more than this amount over the next 5 days.\n",
        "\n",
        "In other words, there is a 5% chance that the portfolio could lose more than $69744.52 within this period.\n"
      ],
      "metadata": {
        "id": "gjnnmwNVmKN2"
      }
    },
    {
      "cell_type": "markdown",
      "source": [
        "# Plotting the results of 10000 Scenarios gnerated by MonteCarlo Simulation"
      ],
      "metadata": {
        "id": "66ZPo8TYnKZk"
      }
    },
    {
      "cell_type": "code",
      "source": [
        "plt.hist(scenarioReturn, bins=50, density=True)\n",
        "plt.xlabel('Scenario Gain/Loss ($)')\n",
        "plt.ylabel('Frequency')\n",
        "plt.title(f'Distribution of Portfolio Gain/Loss Over {days} Days')\n",
        "plt.axvline(-VaR, color='r', linestyle='dashed', linewidth=2, label=f'VaR at {confidence_interval:.0%} confidence level')\n",
        "plt.legend()\n",
        "plt.show()"
      ],
      "metadata": {
        "colab": {
          "base_uri": "https://localhost:8080/",
          "height": 472
        },
        "id": "JEUQbNtXnVZX",
        "outputId": "aac90d97-448e-4a58-a3b3-d4d5c577705a"
      },
      "execution_count": null,
      "outputs": [
        {
          "output_type": "display_data",
          "data": {
            "text/plain": [
              "<Figure size 640x480 with 1 Axes>"
            ],
            "image/png": "[encoded data removed]"
          },
          "metadata": {}
        }
      ]
    },
    {
      "cell_type": "markdown",
      "source": [
        "# Conclusion on VaR of the Portfolio"
      ],
      "metadata": {
        "id": "t1rQBoQXskQL"
      }
    },
    {
      "cell_type": "markdown",
      "source": [
        "From the above plot we come to the conclusin that the distribution of portfolio gains and losses over a 5-day period with the Value at Risk (VaR) at the 95% confidence level indicated by a red dashed line.\n",
        "\n",
        "The distribution graph shows that under most scenarios, the portfolio is likely to result in a gain. However, the VaR at the 95% confidence level, indicated by the red dashed line, shows that there is a 5% chance the portfolio could lose more than a certain amount over the 5-day period. The left tail of the distribution (where the VaR line falls) represents the potential for these extreme losses."
      ],
      "metadata": {
        "id": "HAsG5tWKsqZR"
      }
    }
  ]
}